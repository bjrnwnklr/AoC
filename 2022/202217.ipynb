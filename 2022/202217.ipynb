{
 "cells": [
  {
   "cell_type": "markdown",
   "id": "ef6fe547",
   "metadata": {},
   "source": [
    "# 2022, day 17\n",
    "\n",
    "Part 2 requires finding a pattern in the stack heights to identify at what frequency the pattern repeats and then estimate the stack hight after 1_000_000_000_000 rocks have dropped."
   ]
  },
  {
   "cell_type": "markdown",
   "id": "7b3d1a1c",
   "metadata": {},
   "source": [
    "Load the file with stack heights after each rock"
   ]
  },
  {
   "cell_type": "code",
   "execution_count": 1,
   "id": "8cc46d3e",
   "metadata": {},
   "outputs": [],
   "source": [
    "import pandas as pd"
   ]
  },
  {
   "cell_type": "code",
   "execution_count": 2,
   "id": "f3294718",
   "metadata": {},
   "outputs": [
    {
     "name": "stdout",
     "output_type": "stream",
     "text": [
      "-rw-r--r-- 1 bjoern bjoern 111570 Jan  2 19:01 202217_2.csv\r\n",
      "-rw-r--r-- 1 bjoern bjoern 111895 Jan  2 19:24 202217_2_riddle.csv\r\n"
     ]
    }
   ],
   "source": [
    "!ls -alF *.csv"
   ]
  },
  {
   "cell_type": "code",
   "execution_count": 3,
   "id": "1f710d16",
   "metadata": {},
   "outputs": [],
   "source": [
    "df = pd.read_csv('202217_2.csv', names=['rock', 'height'])"
   ]
  },
  {
   "cell_type": "code",
   "execution_count": 4,
   "id": "9c6d8c3f",
   "metadata": {},
   "outputs": [
    {
     "data": {
      "text/html": [
       "<div>\n",
       "<style scoped>\n",
       "    .dataframe tbody tr th:only-of-type {\n",
       "        vertical-align: middle;\n",
       "    }\n",
       "\n",
       "    .dataframe tbody tr th {\n",
       "        vertical-align: top;\n",
       "    }\n",
       "\n",
       "    .dataframe thead th {\n",
       "        text-align: right;\n",
       "    }\n",
       "</style>\n",
       "<table border=\"1\" class=\"dataframe\">\n",
       "  <thead>\n",
       "    <tr style=\"text-align: right;\">\n",
       "      <th></th>\n",
       "      <th>rock</th>\n",
       "      <th>height</th>\n",
       "    </tr>\n",
       "  </thead>\n",
       "  <tbody>\n",
       "    <tr>\n",
       "      <th>0</th>\n",
       "      <td>0</td>\n",
       "      <td>-1</td>\n",
       "    </tr>\n",
       "    <tr>\n",
       "      <th>1</th>\n",
       "      <td>1</td>\n",
       "      <td>-4</td>\n",
       "    </tr>\n",
       "    <tr>\n",
       "      <th>2</th>\n",
       "      <td>2</td>\n",
       "      <td>-6</td>\n",
       "    </tr>\n",
       "    <tr>\n",
       "      <th>3</th>\n",
       "      <td>3</td>\n",
       "      <td>-7</td>\n",
       "    </tr>\n",
       "    <tr>\n",
       "      <th>4</th>\n",
       "      <td>4</td>\n",
       "      <td>-9</td>\n",
       "    </tr>\n",
       "  </tbody>\n",
       "</table>\n",
       "</div>"
      ],
      "text/plain": [
       "   rock  height\n",
       "0     0      -1\n",
       "1     1      -4\n",
       "2     2      -6\n",
       "3     3      -7\n",
       "4     4      -9"
      ]
     },
     "execution_count": 4,
     "metadata": {},
     "output_type": "execute_result"
    }
   ],
   "source": [
    "df.head()"
   ]
  },
  {
   "cell_type": "markdown",
   "id": "d484be87",
   "metadata": {},
   "source": [
    "## Approach\n",
    "\n",
    "- pick a starting point, e.g. rock 1000\n",
    "- check height differences for 3 cycles of length n and see if they have the same height difference. Start with a reasonable n, e.g. 30\n",
    "- once the length of the cycle is found, we need to find the starting point. Do a binary search down from starting point and check if the same height difference from n is found"
   ]
  },
  {
   "cell_type": "markdown",
   "id": "451f7e16",
   "metadata": {},
   "source": [
    "Test how we can generate a series of height differences from starting point at multiples of n. Then check that all elements in the series are the same."
   ]
  },
  {
   "cell_type": "code",
   "execution_count": 5,
   "id": "6eae05ea",
   "metadata": {},
   "outputs": [
    {
     "data": {
      "text/plain": [
       "False"
      ]
     },
     "execution_count": 5,
     "metadata": {},
     "output_type": "execute_result"
    }
   ],
   "source": [
    "n = 30\n",
    "starting_point = 1000\n",
    "indices = [starting_point + n * i for i in range(4)]\n",
    "df_diff = df.iloc[indices]['height'].diff().iloc[1:]\n",
    "(df_diff == df_diff.iloc[0]).all()"
   ]
  },
  {
   "cell_type": "code",
   "execution_count": 6,
   "id": "95dc6ab5",
   "metadata": {},
   "outputs": [
    {
     "name": "stdout",
     "output_type": "stream",
     "text": [
      "Found cycle length: 35, height is 53\n"
     ]
    }
   ],
   "source": [
    "starting_point = 1000\n",
    "n = 30\n",
    "while True:\n",
    "    indices = [starting_point + n * i for i in range(4)]\n",
    "    df_diff = df.iloc[indices]['height'].diff().iloc[1:]\n",
    "    if (df_diff == df_diff.iloc[0]).all():\n",
    "        break\n",
    "        \n",
    "    n += 1\n",
    "    \n",
    "\n",
    "cycles = n\n",
    "height = int(-df_diff.iloc[0])\n",
    "\n",
    "print(f'Found cycle length: {cycles}, height is {height}')       "
   ]
  },
  {
   "cell_type": "markdown",
   "id": "85ebdb9c",
   "metadata": {},
   "source": [
    "Binary search for the correct starting point, from 1000 downwards"
   ]
  },
  {
   "cell_type": "code",
   "execution_count": 7,
   "id": "9f61a794",
   "metadata": {},
   "outputs": [
    {
     "name": "stdout",
     "output_type": "stream",
     "text": [
      "Search in low=0 high=1000, mid=500\n",
      "Search in low=0 high=500, mid=250\n",
      "Search in low=0 high=250, mid=125\n",
      "Search in low=0 high=125, mid=62\n",
      "Search in low=0 high=62, mid=31\n",
      "Search in low=0 high=31, mid=15\n",
      "Search in low=0 high=15, mid=7\n",
      "Search in low=7 high=15, mid=11\n",
      "Search in low=11 high=15, mid=13\n",
      "Search in low=13 high=15, mid=14\n",
      "low=13 mid=14 high=14\n"
     ]
    }
   ],
   "source": [
    "low = 0\n",
    "high = 1000\n",
    "while (high - low) > 1:\n",
    "    mid = low + (high - low) // 2\n",
    "    print(f'Search in {low=} {high=}, {mid=}')\n",
    "    indices = [mid + cycles * i for i in range(4)]\n",
    "    df_diff = df.iloc[indices]['height'].diff().iloc[1:]\n",
    "    if (df_diff == df_diff.iloc[0]).all():\n",
    "        # too high, go with lower half interval\n",
    "        high = mid\n",
    "    else:\n",
    "        low = mid\n",
    "        \n",
    "print(f'{low=} {mid=} {high=}')"
   ]
  },
  {
   "cell_type": "markdown",
   "id": "f478b37b",
   "metadata": {},
   "source": [
    "Found the results, now calculate the solution, which is:\n",
    "\n",
    "height of first 413 \n",
    "+ (1_000_000_000_000 - 413) // cycles * height\n",
    "+ height of (1_000_000_000_000 - 413) % cycles of the sequence\n",
    "\n",
    "Result: 1580758017509\n",
    "\n",
    "Test case: 1514285714288"
   ]
  },
  {
   "cell_type": "code",
   "execution_count": 8,
   "id": "227b19ec",
   "metadata": {},
   "outputs": [
    {
     "name": "stdout",
     "output_type": "stream",
     "text": [
      "23\n",
      "1514285714263\n",
      "1\n",
      "2\n",
      "Result:  1514285714288\n"
     ]
    }
   ],
   "source": [
    "low_part = -df.iloc[low]['height']\n",
    "print(low_part)\n",
    "mid_part = ((1_000_000_000_000 - mid) // cycles) * height\n",
    "print(mid_part)\n",
    "remaining_rocks = ((1_000_000_000_000 - mid) % cycles)\n",
    "print(remaining_rocks)\n",
    "upper_part = -df.iloc[remaining_rocks + low]['height'] + df.iloc[low]['height']\n",
    "print(upper_part)\n",
    "print('Result: ', low_part + mid_part + upper_part)"
   ]
  }
 ],
 "metadata": {
  "kernelspec": {
   "display_name": "Python 3 (ipykernel)",
   "language": "python",
   "name": "python3"
  },
  "language_info": {
   "codemirror_mode": {
    "name": "ipython",
    "version": 3
   },
   "file_extension": ".py",
   "mimetype": "text/x-python",
   "name": "python",
   "nbconvert_exporter": "python",
   "pygments_lexer": "ipython3",
   "version": "3.11.1"
  }
 },
 "nbformat": 4,
 "nbformat_minor": 5
}
