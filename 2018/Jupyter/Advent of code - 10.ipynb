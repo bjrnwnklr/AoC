{
 "cells": [
  {
   "cell_type": "markdown",
   "metadata": {},
   "source": [
    "# Day 10, part 1\n",
    "\n",
    "Each line represents one point. Positions are given as <X, Y> pairs: X represents how far left (negative) or right (positive) the point appears, while Y represents how far up (negative) or down (positive) the point appears.\n",
    "\n",
    "At 0 seconds, each point has the position given. Each second, each point's velocity is added to its position. So, a point with velocity <1, -2> is moving to the right, but is moving upward twice as quickly. If this point's initial position were <3, 9>, after 3 seconds, its position would become <6, 3>.\n",
    "\n",
    "What message will eventually appear in the sky?\n",
    "\n",
    "Answer: XLZAKBGZ (appears in plot 10655)\n",
    "\n",
    "Part 2: 10656 seconds\n",
    "\n",
    "A good solution could also look at how far the points are spread out and just show the picture once they are closest."
   ]
  },
  {
   "cell_type": "code",
   "execution_count": null,
   "metadata": {},
   "outputs": [],
   "source": [
    "import numpy as np\n",
    "import matplotlib.pyplot as plt\n",
    "import re\n",
    "\n",
    "my_file = open(r'D:\\Python\\Advent\\10.1\\input.txt', 'r').readlines()\n",
    "#coords = [*map(int, re.findall(r'-?\\d+', l)) for l in my_file if l]\n",
    "\n",
    "coords = []\n",
    "velo = []\n",
    "for l in my_file[:-1]:\n",
    "    x, y, vx, vy = map(int, re.findall(r'-?\\d+', l))\n",
    "    coords.append([x, y])\n",
    "    velo.append([vx, vy])\n",
    "    \n",
    "\n",
    "\n",
    "coord_ar = np.array(coords)\n",
    "velo_ar = np.array(velo)\n",
    "'''\n",
    "fig_size = plt.rcParams['figure.figsize']\n",
    "fig_size[0] = 18\n",
    "fig_size[1] = 12\n",
    "plt.rcParams['figure.figsize'] = fig_size\n",
    "'''\n",
    "\n",
    "\n",
    "for i in range(100000):\n",
    "    coord_ar += velo_ar\n",
    "    if 10654 < i < 10656:\n",
    "        if not i % 1:\n",
    "            plt.plot(coord_ar[:, 0], coord_ar[:, 1], 'o')\n",
    "            plt.gca().invert_yaxis()\n",
    "            plt.show()\n"
   ]
  },
  {
   "cell_type": "markdown",
   "metadata": {},
   "source": [
    "## 2nd attempt, trying to guess the right time by seeing when the area of coordinates becomes smallest"
   ]
  },
  {
   "cell_type": "code",
   "execution_count": 1,
   "metadata": {},
   "outputs": [
    {
     "name": "stdout",
     "output_type": "stream",
     "text": [
      "minimum reached at 10656\n"
     ]
    },
    {
     "data": {
      "text/plain": [
       "<Figure size 640x480 with 1 Axes>"
      ]
     },
     "metadata": {},
     "output_type": "display_data"
    }
   ],
   "source": [
    "import numpy as np\n",
    "import matplotlib.pyplot as plt\n",
    "import re\n",
    "\n",
    "my_file = open(r'D:\\Python\\Advent\\10.1\\input.txt', 'r').readlines()\n",
    "#coords = [*map(int, re.findall(r'-?\\d+', l)) for l in my_file if l]\n",
    "\n",
    "coord = []\n",
    "velo = []\n",
    "for l in my_file[:-1]:\n",
    "    x, y, vx, vy = map(int, re.findall(r'-?\\d+', l))\n",
    "    coord.append([x, y])\n",
    "    velo.append([vx, vy])\n",
    "    \n",
    "coord_ar = np.array(coord)\n",
    "velo_ar = np.array(velo)\n",
    "# determine smallest values (all rows, 0 / 1 column)\n",
    "#x_min = min(coord_ar[:,0])\n",
    "#x_max = max(coord_ar[:,0])\n",
    "#y_min = min(coord_ar[:,1])\n",
    "#y_max = max(coord_ar[:,1])\n",
    "x_min, y_min = coord_ar.min(axis=0)\n",
    "x_max, y_max = coord_ar.max(axis=0)\n",
    "min_x = x_max - x_min\n",
    "min_y = y_max - y_min\n",
    "\n",
    "for i in range(100000):\n",
    "    #x_min = min(coord_ar[:,0])\n",
    "    #x_max = max(coord_ar[:,0])\n",
    "    #y_min = min(coord_ar[:,1])\n",
    "    #y_max = max(coord_ar[:,1])\n",
    "    x_min, y_min = coord_ar.min(axis=0)\n",
    "    x_max, y_max = coord_ar.max(axis=0)\n",
    "    dx = x_max - x_min\n",
    "    dy = y_max - y_min\n",
    "    if dx < min_x and dy < min_y:\n",
    "        min_x, min_y, min_time = dx, dy, i\n",
    "        min_coord = np.copy(coord_ar)\n",
    "    coord_ar += velo_ar\n",
    "\n",
    "print('minimum reached at %d' % (min_time))\n",
    "plt.plot(min_coord[:, 0], min_coord[:, 1], 'o')\n",
    "plt.gca().invert_yaxis()\n",
    "plt.show()"
   ]
  },
  {
   "cell_type": "code",
   "execution_count": 8,
   "metadata": {},
   "outputs": [
    {
     "name": "stdout",
     "output_type": "stream",
     "text": [
      "146 207 120 129\n",
      "#....#..#.......######....##....#....#..#####....####...######\n",
      "#....#..#............#...#..#...#...#...#....#..#....#.......#\n",
      ".#..#...#............#..#....#..#..#....#....#..#............#\n",
      ".#..#...#...........#...#....#..#.#.....#....#..#...........#.\n",
      "..##....#..........#....#....#..##......#####...#..........#..\n",
      "..##....#.........#.....######..##......#....#..#..###....#...\n",
      ".#..#...#........#......#....#..#.#.....#....#..#....#...#....\n",
      ".#..#...#.......#.......#....#..#..#....#....#..#....#..#.....\n",
      "#....#..#.......#.......#....#..#...#...#....#..#...##..#.....\n",
      "#....#..######..######..#....#..#....#..#####....###.#..######\n"
     ]
    }
   ],
   "source": [
    "x_min, y_min = min_coord.min(axis=0)\n",
    "x_max, y_max = min_coord.max(axis=0)\n",
    "print(x_min, x_max, y_min, y_max)\n",
    "# print(min_coord)\n",
    "\n",
    "for y in range(y_min, y_max+1):\n",
    "    output_line = ''\n",
    "    for x in range(x_min, x_max+1):\n",
    "        if [x, y] in min_coord.tolist():\n",
    "            output_line = output_line + '#'\n",
    "        else:\n",
    "            output_line = output_line + '.'\n",
    "    print(output_line)\n",
    "    "
   ]
  }
 ],
 "metadata": {
  "kernelspec": {
   "display_name": "Python 3",
   "language": "python",
   "name": "python3"
  },
  "language_info": {
   "codemirror_mode": {
    "name": "ipython",
    "version": 3
   },
   "file_extension": ".py",
   "mimetype": "text/x-python",
   "name": "python",
   "nbconvert_exporter": "python",
   "pygments_lexer": "ipython3",
   "version": "3.7.1"
  }
 },
 "nbformat": 4,
 "nbformat_minor": 2
}
