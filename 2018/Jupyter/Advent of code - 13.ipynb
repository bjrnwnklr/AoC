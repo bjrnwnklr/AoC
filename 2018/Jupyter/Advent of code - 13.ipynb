{
 "cells": [
  {
   "cell_type": "markdown",
   "metadata": {},
   "source": [
    "# Day 13, part 1\n",
    "\n",
    "\n",
    "Tracks consist of straight paths (| and -), curves (/ and \\), and intersections (+). Curves connect exactly two perpendicular pieces of track; for example, this is a closed loop:\n",
    "\n",
    "Several carts are also on the tracks. Carts always face either up (^), down (v), left (<), or right (>). (On your initial map, the track under each cart is a straight path matching the direction the cart is facing.)\n",
    "\n",
    "Each time a cart has the option to turn (by arriving at any intersection), it turns left the first time, goes straight the second time, turns right the third time, and then repeats those directions starting again with left the fourth time, straight the fifth time, and so on. This process is independent of the particular intersection at which the cart has arrived - that is, the cart has no per-intersection memory."
   ]
  },
  {
   "cell_type": "code",
   "execution_count": 7,
   "metadata": {},
   "outputs": [
    {
     "name": "stdout",
     "output_type": "stream",
     "text": [
      "/->-\\        \n"
     ]
    }
   ],
   "source": [
    "my_file = open(r'D:\\Python\\Advent\\13.1\\example.txt', 'r').readlines()\n",
    "\n",
    "class cart:\n",
    "    t = 0 # number of turns for intersections\n",
    "    def __init__(self, x, y, d):\n",
    "        self.x = x # x coordinate\n",
    "        self.y = y # y coordinate\n",
    "        self.d = d # direction: 0 (up), 1 (right), 2 (down), 3 (left)\n",
    "        \n",
    "    def inter_turn(self):\n",
    "        self.d = (self.d + turning[self.t]) % 4\n",
    "        self.t += 1\n",
    "        self.t %= 3\n",
    "\n",
    "# define dictionary that gives intersection direction\n",
    "turning = {0: -1, 1: 0, 2: 1}\n",
    "\n",
    "grid = [[] for j in range(len(my_file))]\n",
    "for i in range(len(my_file)):\n",
    "    grid[i] = [x for x in my_file[i].rstrip('\\n')]\n",
    "    \n",
    "print(''.join(s for s in grid[0]))"
   ]
  },
  {
   "cell_type": "code",
   "execution_count": 8,
   "metadata": {},
   "outputs": [
    {
     "name": "stdout",
     "output_type": "stream",
     "text": [
      "0 0 0\n",
      "0 0 3\n"
     ]
    }
   ],
   "source": [
    "my_cart = cart(0, 0, 0)\n",
    "print(my_cart.x, my_cart.y, my_cart.d)\n",
    "my_cart.inter_turn()\n",
    "print(my_cart.x, my_cart.y, my_cart.d)"
   ]
  }
 ],
 "metadata": {
  "kernelspec": {
   "display_name": "Python 3",
   "language": "python",
   "name": "python3"
  },
  "language_info": {
   "codemirror_mode": {
    "name": "ipython",
    "version": 3
   },
   "file_extension": ".py",
   "mimetype": "text/x-python",
   "name": "python",
   "nbconvert_exporter": "python",
   "pygments_lexer": "ipython3",
   "version": "3.7.1"
  }
 },
 "nbformat": 4,
 "nbformat_minor": 2
}
