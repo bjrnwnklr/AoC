{
 "cells": [
  {
   "cell_type": "markdown",
   "metadata": {},
   "source": [
    "# Day 1, part 1\n",
    "https://adventofcode.com/2018/day/1\n",
    "\n",
    "Starting with a frequency of zero, what is the resulting frequency after all of the changes in frequency have been applied?\n",
    "\n",
    "Your puzzle answer was 529."
   ]
  },
  {
   "cell_type": "code",
   "execution_count": 1,
   "metadata": {},
   "outputs": [
    {
     "name": "stdout",
     "output_type": "stream",
     "text": [
      "951\n"
     ]
    }
   ],
   "source": [
    "# read the file and create a list\n",
    "my_input_file = open(r'D:\\Python\\Advent\\1.1\\input.txt', 'r')\n",
    "freq_input_str = my_input_file.read().split()\n",
    "\n",
    "# convert list elements to integers\n",
    "freq_input = [int(x) for x in freq_input_str]\n",
    "print(len(freq_input))"
   ]
  },
  {
   "cell_type": "code",
   "execution_count": 5,
   "metadata": {},
   "outputs": [
    {
     "name": "stdout",
     "output_type": "stream",
     "text": [
      "Final value = 529.\n"
     ]
    }
   ],
   "source": [
    "print('Final value = %d.' % (sum(freq_input)))\n",
    "    \n"
   ]
  },
  {
   "cell_type": "markdown",
   "metadata": {},
   "source": [
    "# Day 1, part 2\n",
    "https://adventofcode.com/2018/day/1#part2\n",
    "\n",
    "What is the first frequency your device reaches twice?\n",
    "\n",
    "Although it hasn't changed, you can still get your puzzle input."
   ]
  },
  {
   "cell_type": "code",
   "execution_count": 3,
   "metadata": {},
   "outputs": [
    {
     "name": "stdout",
     "output_type": "stream",
     "text": [
      "Found the duplicate: 464 at step 135571.\n",
      "Done...\n"
     ]
    }
   ],
   "source": [
    "# use the same input from before (freq_input list)\n",
    "# already seen results are stored in a set\n",
    "already_seen = set()\n",
    "\n",
    "# run through the calculation again and store each result in a set\n",
    "current = 0\n",
    "i = 0       # keep count where the duplicate happens\n",
    "found = False\n",
    "while not found:\n",
    "    for x in freq_input:\n",
    "        current += x\n",
    "        i += 1\n",
    "        if current in already_seen:\n",
    "            print('Found the duplicate: %d at step %d.' % (current, i))\n",
    "            found = True\n",
    "            break\n",
    "        else:\n",
    "            already_seen.add(current)\n",
    "                \n",
    "print(\"Done...\")"
   ]
  },
  {
   "cell_type": "code",
   "execution_count": 4,
   "metadata": {},
   "outputs": [
    {
     "name": "stdout",
     "output_type": "stream",
     "text": [
      "951\n",
      "135570\n"
     ]
    }
   ],
   "source": [
    "print(len(freq_input))\n",
    "print(len(already_seen))"
   ]
  }
 ],
 "metadata": {
  "kernelspec": {
   "display_name": "Python 3",
   "language": "python",
   "name": "python3"
  },
  "language_info": {
   "codemirror_mode": {
    "name": "ipython",
    "version": 3
   },
   "file_extension": ".py",
   "mimetype": "text/x-python",
   "name": "python",
   "nbconvert_exporter": "python",
   "pygments_lexer": "ipython3",
   "version": "3.7.1"
  }
 },
 "nbformat": 4,
 "nbformat_minor": 2
}
