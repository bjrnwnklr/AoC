{
 "cells": [
  {
   "cell_type": "markdown",
   "metadata": {},
   "source": [
    "# Day 5, part 1\n",
    "\n",
    "The polymer is formed by smaller units which, when triggered, react with each other such that two adjacent units of the same type and opposite polarity are destroyed. Units' types are represented by letters; units' polarity is represented by capitalization. For instance, r and R are units with the same type but opposite polarity, whereas r and s are entirely different types and do not react.\n",
    "\n",
    "For example:\n",
    "\n",
    "In aA, a and A react, leaving nothing behind.\n",
    "In abBA, bB destroys itself, leaving aA. As above, this then destroys itself, leaving nothing.\n",
    "In abAB, no two adjacent units are of the same type, and so nothing happens.\n",
    "In aabAAB, even though aa and AA are of the same type, their polarities match, and so nothing happens.\n",
    "\n",
    "Now, consider a larger example, dabAcCaCBAcCcaDA:\n",
    "\n",
    "    dabAcCaCBAcCcaDA  The first 'cC' is removed.\n",
    "    dabAaCBAcCcaDA    This creates 'Aa', which is removed.\n",
    "    dabCBAcCcaDA      Either 'cC' or 'Cc' are removed (the result is the same).\n",
    "    dabCBAcaDA        No further actions can be taken.\n",
    "    \n",
    "After all possible reactions, the resulting polymer contains 10 units.\n",
    "\n",
    "How many units remain after fully reacting the polymer you scanned? \n",
    "\n",
    "Solution: 10180"
   ]
  },
  {
   "cell_type": "code",
   "execution_count": 9,
   "metadata": {},
   "outputs": [
    {
     "name": "stdout",
     "output_type": "stream",
     "text": [
      "ymvXSkJSWtXGcgxTwsqlkzQLqyZPtyhizvDkvJqFDWoWLIwwzWOOffmGoFVzhZpCvEDNNsJbmxfsLSDFRoBQuFNDPWMfKODcTGuAmqOimyJLPvLSxKlkBQLfniEymLuGEbYYWcnimeqTZwJOkNSIXoxKLXYuZazXPhBDQmesvxQFhYXOWsjnGAZOUtBenImkXJKEaeLyAJuAJlQYMDSXfyNEJuRpgrVUbUJirdhVsvBqMHOpMsJFrZQxdUJerUguREXjzFVXckTunLNEuJekRZJBSiOUXCJrFmmbmONTyqHSgQrHjnumhGSNbJTmXhAsJgibMFvkyrMqCWhBwcRWVqYalWAeUMcLEKvEtRGHJqrZbvNxCFVJCmjCrEBeGPypaEvRAEfuDCLbESrvWDLdWWlvpCLNefAWesFJWCTYrNSIyPrkxKRTgNFhCJhUiVxABkBAvvHuMngzMcjUNOsdeWIoTevKVMGcNAHDWDaiTUXBABDeYpusjsGLTeMnHSrFWjOMTqxKMuoaGdMFxgxDezxOvrLHIsERoHWueuKhFHzSBNWqNHKoZrLoGEuPVRQalQBJBCoBrvGvzAcbUZSEJUTSwZbQEAVavfoRtFmJDlBecbsfxcmSVnZcocavZCozhBoKJIqkJUxUqxfTRitViOuHeyBLsNvFJszVPBGQIxLoKBhbmGaeJIgbfLbmgrxEVrUgDQbbOIwVBtDqUFrmPMIAGNcROiTZZAcjLGzntGKSyczNxGKqoYXcgHzPlBiJbYBJENgrcqLKSGEVFSEnAojaiuoNXvqwrwMODxJaqlESlAxIxsCdLtllYHcvMEYHTuyhMyXiUylGcVQSSgjNIPmoGRwAPGiHmQvFqlFsMZZkflGlJtmpWBVnnRKUQShUTKLXOgFXJtpYfVaREQNHZJTkVzTVMJgaUbhVezjuBejilUysotKKqdWqTsgWdjXdqxPmjCFPJDSuafBDUUPMDtvHtVoxbfQVpvopJzQawfXewLOTrouGellnpDUvhEpryAFyGOgnCMGmXuKykSLIApWRJLRDKcveTgnOPezxjgSjQzGFshNfbmqmSfhJIqHXbxtwMsYwKiUxRFlQwNcbFKgIWerVdciaqRjvcisVayOTlMuRNwigPIfHgyrfiyrIhecxrwJqwBqLOppYLXuAVJGxYvqZrDoNpygHVqDgkEdLbXQctaXnQeSnERVceBFMpUptPOhKWODyKbPqGuJfUSHlodjRWfdyOcyEjyKWDbmdMGugrNSuEWAwokEgjWjOgBkgFrGVbXHlvAkjVonerXOgmhJYzhhUQVDNFKaMYHLOkNwAYmUkAtHcXjKpmiSvUhzBipIUdVGGsBxbjiZSUdVsawVJElPGGHEgZxMoarAfLuRfhjoeGsgiLQnEHzEnDVfyvndSlgwuLBVVJMxGTLuPYWccJdzqezDNSCQNjTMQQXYscAmubMnEiLDwVLExnzNcKBcKnRRZfWcBOgblguMCEVombvheFTdMYLRJsMTozLECUlqDVQvxBDVRFzokxQIOJFHBVPdOyiLUmHWeHUQLiwdKHymCQowAIVAQfQbdlazfbFeaEExjpqhLAVunopGTJqscNKcloXJTLQABMvjOPsAfbAoUakoIhbFzEshifBOXuADoUxaYJHeuVfNbYxkBtWfOAlxGQXZWBTmISfQxnabiHHjPNvZCSLweiKQBNWAtVUngoEAUsFLCZwJPDQdGidRduKtqFNlunuEvNsWEPXPdjHglmHwJSOjtBMqpBESWdQCIsAdzhfjKnPXmJVAqTsIhntNcecadvGXYaIsgUpgcbjznzzcARvmoMolWYcIjSwnENKVpKePWawEJqPzcfRIksLqZUFBlRnIfsJXZZLHKNhldlGQGaUyBQCQaGbJapJwlTjXzmdOAtaRykoPCfAgCBFkjrXEveiJMbQGteroGtXSuEvPZtxRWDFLvparMEhoBtgfRliZRxGQIIeHYMGVAKnMGyKPPkTfbeqDllufsXaitbREvYcpOdBRkjnUNlnOqUZOmSPLreFgfnCzxzGzfDBxOrIhbXRVHiZTIhvkTjsKKxjwbicFFNBnRhDBlXBHzYNrBwOheFVNCdUkXDZFhXcXZdFPnHeGzBgtNreQBTieghsojmSDgpYnqPqvwqxZKFWtbRLHsIsnsoNBSMUeNVzDUpFBKEibDgCOggCskptmfSQsCuVzOmCLfBKvHHHPASlHrnBmsIXYkXMqVRDVzTPHgbjEPPswOdNBidZUKxaIWQPRJQDFKZKDwQvXOQarZVbxDQkjmusWPNcwuDXZCKcMIUUxsErPMrURFWEFqYKZuocZJruJEQzNbNIvwtYUBAFCQumhPbRHaGcXrbHwKKlgRenSAZdemluBBaaRTHzmZnfhgwamZrnFXYfoVzvZHObHVCLfmVCfVDGJxdxCNMzjAKoYXNQpsKPfRUmPnOEhwLhPidyWfCOcOkWkRflmjtvyunsCxcVDDuykLUBElqwMRTCOTvCdqdrvHOrElyTgvcPKMdhpvTbiySmvsndnRgCQmwtUGVJHkGTvraNXKbAihBLgfmxyBwtXCvDAUovEhbTzrLivviyJAknKSnYDSCXPGrmRMNKxxtQhqqZQDxMBfHXpVaKMSSOxPaIUUDXlsXtjBsffirLCQQOWsjuFsmSLAbkIGSGWNziCGcodAYoSKdKNjnqquEAtkxVQnuiLGuxZCODjdncUWCJYpsokdFTunqnceeWQWRSZjXsenTAKcYgMSzlpSQSyIjODjYIquqWqxKxexyOBzOHTUpOBPagZXfParfqZbVJAZJKMYBSVPiofkpnwnIqjBsWluPKjWLXppnngQdbYWtCvpAxkMjjmgEquLQzIOPVdkaDyTIfdWfqxzbGjRiNetUqArYoFeiDZvJQyOIcVcwuOKpTXDyHAKAMvwjqfujpCKYBrBfGvwnDWavCBvyHJKsXAfUsrFoBsctoAbAHJvSBgQsKCHFIxqwHMPDxpDqHdtyNuYCGwyfGRIZFvhscmJHUKyBdIObqaPxAXFOIdkykIUFcxiuXBRmlwnyTnHNtpqnGsunGmIHBAUYCJXWtzmFXeRHBJubsOAqZMKXNRlesDkfdqDoboGoROGjypNanvaXuwIGIgtoZAYgTRbOHzipblgoeYApZMWxliONmgoCqzOSKVGzuoQWlpgqjxSYxdvOBYCFcSqrQnTiNBSiMPiWDmDpAgsvxbatZUDTlQBjyPdEKIgrsTcdtLaPKbsMqZScIwDxSlFRBLBulQQJiyjQHZYZfTrrTsVaJJkRwDzPauzYKmflmXeUOkyLWdvUqlmmOMfVeireJFRXwlQOixOKYkRSejmPgdKqoNKdahvcWVZbxpIRvBmJqOfQtVNdytdqostDoaZeXOZXePVzmxlHHYJJhnRNABmdVciGkIJdVokkOhArukaHirfJTaNqiGwLhqbEHkOlZQSLbgxkgZCaXRHYQUVhnwFUNTmYPODqzeeragrwbFRnPKnEZvuMwkeOvDDkhftrFjOrCeLkAIXMcNYBjIQhxKSUpKwUfYqeBIoRfdPTFqmPftCvJJrzTUcpqKFRdNRTDUnjkRUQAmVLBRUKUDydTGGHsYNXIpKcAMKypxOnmcaIKEnLvpSnsscQGNpNKMSdkOSBTmlkoiJJtgZmAeGvYvhLQHkFdrpkGzXQbVQfxqiVuLaYgKBybtqYvCipJwXOKKppHEpjbNXYledsMhbrbJFBeiSbSreupsIvYFTcbsoPwnzRJLJhQjVFxHusktDifgNBZWgJFasZhGzsJBTsTNKYOeQKWInuIdWqpxTCNCoMDqIBQDBXAqfnGjjIsZSybmZYqmbXpEQHsUTYeeVWfSGkqrcaohXTPTexKHVqoJdFelpmADLEHcYDqzMtXFcyvvnsCWsVxnqIPcIvqigMIvjUZHqntmyXPKmbrIpOkpCtXlbUTkQRnGRZTDkJRXbXAwnUUpweoLkNkyJXLWCrDIbZdIXmqEEoSwOWctcZiOxoJLzRfAMtwjPMAetjABtxFxveDFYGXismXtxwHTZNyczyDkpETFDHbLkzeOHnnsrCYbhhSuiLVMwcPmcNTvOuEpgpfRIPEwPNtCQxzadpbSEAXwFYDomILDIUEWsdQGcdLgOtgyQAqpJspHWRpWetdOpitNIlEKMQjesIYPyHPDuVXUnfQGopkgmIviGPsMZVxGSGGGEZDKdPjXUNFZrxbLhNqIbpOZdffWIIjBCJZPPIeqaYvPlGXjFlwhljBXqUPErgdXPrzuuvoeDAvNjEBtvmyeDPAifaeOUTeyuvMHtwKrSkHpMFEwPFhfQrkHdOBGqiGOEqLDoQfyasbUZQRHFLNfuoljRPTAMPiOxbKzAEJAVmsXdVtpFqIKOTuMGTzomYMXBLSivdMbNWqiqkecBLfXUMKlSARRomKzxFnKzzVXFTcGkVCXMGAAupKvrFNAImiliZNmZLuHBXMaCMaHcVDHLriRAlooABocTuwLPYdEcimRlqeBLadUzqneqvjgrggxDoahlFzJVHIHttSkiFVtnQjwQQcqeAgfJvriCAuNCKsPiEqakyKayBXppwepSvGwfXSniYWtokSLECwABvGKiXqmHSxwPCNjpbxlWUrmqxnVJnCleSvzqzBPsDqOgFCYZlFSlIhZWjlyTuxILnKpLxJMdgfSdoKDxWWbuxsdfokzUhqddyVHVutkuECLutZnBgoiBMCnYwzimhEiqKIulPOKWpIrbCyCEuFDctOVFzvyIUKTzySTeTgThKluSuSFLIbIKmOuSLGwCLSNmSSAdFqAeRlvZPSiKwBeHetPNBKEvfsasbCzXUQLHoczlDAxgaIzFQTnZeYVJIolHgsXEVmVimjipxlgSqJrixTRxohWNSgXELrZDNJGXZSqiNGnwiuwLJOELYVhttaYfrtONWeffdrhZnZapqAflplSItlPxdeKIZFYuGpmhyPDREnhexyAtLAYKrKNYZdOywgItxJsOprtqSmzyWQiAfEaNdNeuKvdRgioLwOOOBZrVuCCnwuRmbCElSEMxvRVuoaFuXESoaRnSLVzJiKotXCxTOkIjZvlsNrAOsexUfAOUvrVXmesLecBMrUWNccUvRzboooWlOIGrDVkUEnDnAeFaIqwYZMsQTRPoSjXTiGWYoDzynkRkyalTaYXEHNerdpYHMPgUyfzikEDXpLTisLPLFaQPAzNzHRDFFEwnoTRFyATTHvyleojlWUIWNgnIQszxgjndzRlexGsnwHOXrtXIRjQsGLXPIJMIvMvexSGhLOijvyEzNtqfZiAGXadLZCOhlquxZcBSASFVekbnpTEhEbWkIspzVLrEaQfDassMnslcWglsUoMkiBilfsUsULkHtGtEtsYZtkuiYVZfvoTCdfUecYcBRiPwkopLUikQIeHMIZWyNcmbIOGbNzTUlceUKTUvhvYDDQHuZKOFDSXUBwwXdkODsFGDmjXlPkNliXUtYLJwzHiLsfLzycfGoQdSpbZQZVsELcNjvNXQMRuwLXBPJncpWXshMQxIkgVbaWcelsKOTwyINsxFWgVsPEWPPxbYAkYKAQeIpSkcnUacIRVjFGaEQCqqWJqNTvfIKsTThihvjZfLHAOdXGGRGJVQENQZuDAlbEQLrMICeDyplWUtCObaOOLarIRlhdvChAmcAmxbhUlzMnzILIMianfRVkPUaagmxcvKgCtfxvZZkNfXZkMOrrasLkmuxFlbCEKQIQwnBmDVIslbxmyMOZtgmUtokiQfPTvDxSMvajeaZkBXoIpmatprJLOUFnlfhrqzuBSAYFqOdlQeogIQgboDhKRqFHfpWefmPhKsRkWThmVUYEtuoEAFIapdEYMVTbeJnVadEOVUUZRpxDGRepuQxbJLHWLfJxgLpVyAQEippzjcbJiiwFFDzoPBiQnHlBXRzfnuxJpDkdzegggsgXvzmSpgIViMGKPOgqFNuxvUdphYpyiSEJqmkeLinTIPoDTEwPrwhPSjPQaqYGToGlDCgqDSweuidliMOdyfWxaesBPDAZXqcTnpWepirFPGPeUoVtnCMpCWmvlIUsHHBycRSNNhoEZKlBhdftePKdYZCYnzthWXTxMSIxgyfdEVXfXTbaJTEampJWTmaFrZljOXoIzCTCwoWsOeeQMxiDzBidRcwlxjYKnKlOEWPuuNWaxBxrjKdtzrgNrqKtuBLxTcPKoPiRBMkpxYMTNQhzuJVimGIQViCpiQNXvSwcSNVVYCfxTmZQdyCheldaMPLEfDjOQvhkXEtptxHOACRQKgsFwvEEytuShqePxBMQyzMBYszSiJJgNFQaxbdqbiQdmOcnctXPQwDiUNiwkqEoykntStbjSZgHzSAfjGwzbnGFIdTKSUhXfvJqHjljrZNWpOSBCtfyViSPUERsBsIEbfjBRBHmSDELyxnBJPehPPkkoxWjPIcVyQTBYbkGyAlUvIQXFqvBqxZgKPRDfKhqlHVyVgEaMzGTjjIOKLMtbsoKDsmknPngqCSSNsPVlNekiACMNoXPYkmaCkPixnyShggtDYdukurblvMaqurKJNudtrnDrfkQPCutZRjjVcTFpMQftpDFrOibEQyFuWkPuskXHqiJbynCmxiaKlEcRoJfRTFHKddVoEKWmUVzeNkpNrfBWRGAREEZQdopyMtnufWNHvuqyhrxAczGKXGBlsqzLoKheBQHlWgIQnAtjFRIhAKURaHoKKOvDjiKgICvDMbanrNHjjyhhLXMZvpExzoxEzAOdTSOQDTYDnvTqFoQjMbVriPXBzvwCVHADknOQkDGpMJEsrKykoXIoqLWxrfjERIEvFmoMMLQuVDwlYKouExMLFMkyZUApZdWrKjjAvStRRtFzyzhqJYIjqqLUblbrfLsXdWiCszQmSBkpAlTDCtSRGikeDpYJbqLtduzTABXVSGaPdMdwIpmIsbnItNqRQsCfcyboVDXysXJQGPLwqOUZgvksoZQcOGMnoILXwmzPayEOGLBPIZhoBrtGyazOTGigiWUxAVNAnPYJgorOgOBOdQDFKdSELrnxkmzQaoSBUjbhrExfMZTwxjcyuabhiMgNUSgNQPTnhNtYNWLMrbxUIXCfuiKYKDiofxaXpAQBoiDbYkuhjMCSHVfzirgFYWgcyUnYTDhQdPXdpmhWQXifhckSqGbsVjhaBaOTCSbOfRSuFaxSkjhYVbcVAwdNWVgFbRRbykcPJUFQJWVmakahYdxtPkoUWCvCioYqjVzdIEfOyRaQuTEnIrJgBZXQFwDFitYdAKDvpoiZqlUQeGMJJmKXaPVcTwyBDqGNNPPxlwJkpULwSbJQiNWNPKFOIpvsbymkjzajvBzQFRApFxzGApboPuthoZboYXEXkXQwQUQiyJdoJiYsqsPLZsmGyCkatNESxJzsrwqwEECNQNUtfDKOSPyjcwuCNDJdoczXUglIUNqvXKTaeUQQNJnkDksOyaDOCgcIZnwgsgiKBalsMSfUJSwoqqclRIFFSbJTxSLxduuiApXossmkAvPxhFbmXdqzQQHqTXXknmrMRgpxcsdyNskNKajYIVVIlRZtBHeVOuadVcxTWbYXMFGlbHIaBkxnARVtgKhjvguTWMqcGrNDNSVMsYIBtVPHDmkpCVGtYLeRohVRDQDcVtoctrmWQLebulKYUddvCXcSNUYVTJMLFrKwKoCocFwYDIpHlWHeoNpMurFpkSPqnxyOkaJZmncXDXjgdvFcvMFlcvhBohzVZvOFyxfNRzMAWGHFNzMZhtrAAbbULMEDzasNErGLkkWhBRxCgAhrBpHMUqcfabuyTWVinBnZqejURjzCOUzkyQfewfruRmpReSXuuimCkczxdUWCnpwSUMJKqdXBvFyGYfzRAqoxVqWdkzkfdqjrpqwiAXkuzDIbnDoWSppeJBGhptZvdrvQmxKyxiSMbNRhLsaphhhVkbFlcMoZvUcSqsFMTPKScGGocGdBIekbfPudZvnEumsbnOSNSiShlrBTwfkzXQWVQpQNyPGdsMJOSHGEItbqERnTGbZgEhNpfDzxCxHfzdxKuDcnvfEHoWbRnyZhbxLbdHrNbnffCIBWJXkkSJtKVHitzIhvrxBHiRoXbdFZgZXZcNFGfERlpsMozuQoNLnuNJKrbDoPCyVerBTIAxSFULLdQEBFtKppkYgmNkavgmyhEiiqgXrzILrFGTbOHemRAPVlfdwrXTzpVeUsxTgORETgqBmjIEVexRJKfbcGaFcpOKYrATaoDMZxJtLWjPAjBgAqcqbYuAgqgLDLHnkhlzzxjSFiNrLbUIriufuzQlSKirFCZpQjeWAwpEkPvkneNWsJiCywLOmOMVraCZZNZJBCGPuGSiAyxgVDACECnTNHiStQavjMxpNkJFHZDaSicqDwsebPQmbTJosjWhMLGhJDpxpewSnVeUNULnfQTkUDrDIgDqdpjWzclfSuaeOGNuvTawnbqkIEWlsczVnpJhhIBANXqFsiMtbwzxqgXLaoFwTbKXyBnFvUEhjyAXuOdaUxobFIHSeZfBHiOKAuOaBFaSpoJVmbaqltjxOLCknCSQjtgPONUvalHQPJXeeAEfBFZALDBqFqaviaWOqcMYhkDWIlquhEwhMulIYoDpvbhfjoiqXKOZfrvdbXVqvdQLucelZOtmSjrlymDtfEHVBMOvecmUGLBGobCwFzrrNkCbkCnZNXelvWdlIeNmBUMaCSyxqqmtJnqcsndZEQZDjCCwypUltgXmjvvblUWGLsDNVYFvdNeZheNqlIGSgEOJHFrUlFaRAOmXzGehggpLejvWASvDuszIJBXbSggvDuiPIbZHuVsIMPkJxChTaKuMyaWnKolhymAkfndvquHHZyjHMGoxRENOvJKaVLhxBvgRfGKbGoJwJGeKOWaweUsnRGUgmDMBdwkYJeYCoYDFwrJDOLhsuFjUgQpBkYdowkHopTPuPmfbECvreNsEqNxATCqxBlDeKGdQvhGYPnOdRzQVyXgjvaUxlyPPolQbWQjWRXCEHiRYIFRYGhFipGIWnrUmLtoYAvSICVJrQAICDvREwiGkfBCnWqLfrXuIkWySmWTXBxhQijHFsMQMBFnHSfgZqJsGJXZEpoNGtEVCkdrljrwPailsKYkUxMgmcNGogYfaYRPeHVudPNLLEgUORtolWExFWAqZjPOVPvqFBXOvThVTdmpuudbFAUsdjpfcJMpXQDxJDwGStQwDQkkTOSYuLIJEbUJZEvHBuAGjmvtZvKtjzhnqerAvFyPTjxfGoxlktuHsqukrNNvbwPMTjLgLFKzzmSfLQfVqMhIgpaWrgOMpinJGssqvCgLYuIxYmHYUthyemVChyLLTlDcSXiXaLseLQAjXdomWRWQVxnOUIAJOaNesfvegsklQCRGnejbyBjIbLpZhGCxyOQkgXnZCYskgTNZglJCazztIorCngaimpMRfuQdTbvWioBBqdGuRveXRGMBlFBGijEAgMBHbkOlXiqgbpvZSjfVnSlbYEhUoIvTIrtFXQuXujKQijkObHZOczVACOCzNvsMCXFSBCEbLdjMfTrOFVAvaeqBzWstujeszuBCaZVgVRbOcbjbqLAqrvpUegOlRzOkhnQwnbsZhfHkUEUwhOreSihlRVoXZEdXGXfmDgAOUmkXQtmoJwfRshNmEtlgSJSUPyEdbabxutIAdwdhanCgmvkVEtOiwEDSonuJCmZGNmUhVVabKbaXvIuHjcHfnGtrkXKRpYisnRytcwjfSEwaFEnlcPVLwwDldwVRseBlcdUFearVeAPYpgEbeRcJMcjvfcXnVBzRQjhgrTeVkelCmuEawLAyQvwrCWbHwcQmRYKVfmBIGjSaHxMtjBnsgHMUNJhRqGshQYtnoMBMMfRjcxuoIsbjzrKEjUenlNUtKCxvfZJxjuDXqzRfjSmPohmQbVSvHDRIjuBuvRGPrUjenYFxsdmyqLjaUjaYlEAekjxKMiNEbTuozagNJSwoxyHfqXVSEMqdbHpxZAzUyxlkXOxisnKojWztQEMINCwyyBegUlMYeINFlqbKLkXslVpljYMIoQMaUgtCdokFmwpdnfUqbOrfdslSFXMBjSnndeVcPzHZvfOgMFFoowZWWilwOwdfQjVKdVZIHYTpzYQlqZKLQjKsxVMY\n"
     ]
    }
   ],
   "source": [
    "# testcase = 'aAbbaAb'\n",
    "testcase = open(r'D:\\Python\\Advent\\5.1\\input.txt', 'r').readline().strip()\n",
    "\n",
    "def rem_dupl(word):\n",
    "    word_result = word\n",
    "    for i in range(len(word)-1):\n",
    "        if word[i].lower() == word[i+1].lower():\n",
    "            if (word[i].islower() & word[i+1].isupper()) | (word[i].isupper() & word[i+1].islower()):\n",
    "                word_result = word[:i] + word[i+2:]\n",
    "                break\n",
    "    return word_result\n",
    "\n",
    "prev_word = ''\n",
    "work_word = testcase\n",
    "while prev_word != work_word:\n",
    "    prev_word = work_word\n",
    "    work_word = rem_dupl(work_word)\n",
    "    \n",
    "print(work_word)"
   ]
  },
  {
   "cell_type": "code",
   "execution_count": 10,
   "metadata": {},
   "outputs": [
    {
     "name": "stdout",
     "output_type": "stream",
     "text": [
      "10180\n"
     ]
    }
   ],
   "source": [
    "print(len(work_word))"
   ]
  },
  {
   "cell_type": "code",
   "execution_count": 4,
   "metadata": {},
   "outputs": [
    {
     "data": {
      "text/plain": [
       "False"
      ]
     },
     "execution_count": 4,
     "metadata": {},
     "output_type": "execute_result"
    }
   ],
   "source": [
    "testcase = open(r'D:\\Python\\Advent\\5.1\\input.txt', 'r').readline().strip()\n",
    "testcase2 = testcase[1:]\n",
    "\n",
    "testcase == testcase2\n"
   ]
  },
  {
   "cell_type": "code",
   "execution_count": null,
   "metadata": {},
   "outputs": [
    {
     "name": "stdout",
     "output_type": "stream",
     "text": [
      "found hH at 0\n",
      "found wW at 0\n",
      "found pP at 2\n",
      "found wW at 1\n",
      "found Yy at 2\n",
      "found Jj at 1\n",
      "found jJ at 1\n",
      "found Kk at 1\n",
      "found Dd at 0\n",
      "found iI at 0\n",
      "found Gg at 0\n",
      "found Uu at 0\n",
      "found Ii at 0\n",
      "found Gg at 1\n",
      "found Tt at 3\n",
      "found hH at 3\n",
      "found zZ at 3\n",
      "found Ll at 2\n",
      "found hH at 3\n",
      "found Ee at 4\n",
      "found oO at 3\n",
      "found gG at 2\n",
      "found Yy at 2\n",
      "found wW at 2\n",
      "found Nn at 3\n",
      "found eE at 2\n",
      "found iI at 1\n",
      "found cC at 2\n",
      "found uU at 3\n"
     ]
    }
   ],
   "source": [
    "#### this doesn't work!!!\n",
    "# regex search for two consecutive lower case letters e.g. 'aa'\n",
    "# loop fails as it also recognizes 'BB' or 'bb' and then goes into\n",
    "# infinite loop or returns same string\n",
    "\n",
    "# no idea how to write a regex that finds 'aA' or 'Aa' but not 'aa' or 'AA'\n",
    "\n",
    "import re\n",
    "testcase = open(r'D:\\Python\\Advent\\5.1\\input.txt', 'r').readline().strip()\n",
    "#testcase = 'dabAcCaCBAcCcaDA'\n",
    "\n",
    "def rem_dupl(word):\n",
    "    word_result = word\n",
    "    found = False\n",
    "    r = re.compile(r'(\\w)\\1', re.I)\n",
    "    while not found:\n",
    "        reg_match = r.search(word)\n",
    "        if reg_match:\n",
    "            i = reg_match.start()\n",
    "            if (word[i].islower() & word[i+1].isupper()) | (word[i].isupper() & word[i+1].islower()):\n",
    "                word_result = word[:i] + word[i+2:]\n",
    "                print('found %s%s at %d' % (word[i], word[i+1], i))\n",
    "                found = True\n",
    "    return word_result\n",
    "\n",
    "prev_word = ''\n",
    "work_word = testcase\n",
    "count = 0\n",
    "while prev_word != work_word:\n",
    "    prev_word = work_word\n",
    "    work_word = rem_dupl(work_word)\n",
    "    count += 1\n",
    "\n",
    "print(len(work_word))\n",
    "print(work_word)\n"
   ]
  },
  {
   "cell_type": "markdown",
   "metadata": {},
   "source": [
    "# Part 2\n",
    "\n",
    "For example, again using the polymer dabAcCaCBAcCcaDA from above:\n",
    "\n",
    "Removing all A/a units produces dbcCCBcCcD. Fully reacting this polymer produces dbCBcD, which has length 6.\n",
    "Removing all B/b units produces daAcCaCAcCcaDA. Fully reacting this polymer produces daCAcaDA, which has length 8.\n",
    "Removing all C/c units produces dabAaBAaDA. Fully reacting this polymer produces daDA, which has length 4.\n",
    "Removing all D/d units produces abAcCaCBAcCcaA. Fully reacting this polymer produces abCBAc, which has length 6.\n",
    "In this example, removing all C/c units was best, producing the answer 4.\n",
    "\n",
    "What is the length of the shortest polymer you can produce by removing all units of exactly one type and fully reacting the result?\n",
    "\n",
    "removing c results in length of 5668"
   ]
  },
  {
   "cell_type": "code",
   "execution_count": 4,
   "metadata": {},
   "outputs": [],
   "source": [
    "# Define the functions from part 1\n",
    "testcase = open(r'D:\\Python\\Advent\\5.1\\input.txt', 'r').readline().strip()\n",
    "\n",
    "def rem_dupl(word):\n",
    "    word_result = word\n",
    "    for i in range(len(word)-1):\n",
    "        if word[i].lower() == word[i+1].lower():\n",
    "            if (word[i].islower() & word[i+1].isupper()) | (word[i].isupper() & word[i+1].islower()):\n",
    "                word_result = word[:i] + word[i+2:]\n",
    "                break\n",
    "    return word_result\n",
    "\n",
    "def react_pol(word):\n",
    "    prev_word = ''\n",
    "    work_word = word\n",
    "    while prev_word != work_word:\n",
    "        prev_word = work_word\n",
    "        work_word = rem_dupl(work_word)\n",
    "    return(len(work_word))\n",
    "    \n",
    "# print(react_pol(testcase))"
   ]
  },
  {
   "cell_type": "code",
   "execution_count": 3,
   "metadata": {},
   "outputs": [
    {
     "name": "stdout",
     "output_type": "stream",
     "text": [
      "{}\n",
      "removed d: 9782\n",
      "removed n: 9760\n",
      "removed s: 9756\n",
      "removed t: 9812\n",
      "removed y: 9814\n",
      "removed k: 9754\n",
      "removed b: 9736\n",
      "removed x: 9718\n",
      "removed m: 9778\n",
      "removed c: 5668\n",
      "removed g: 9764\n",
      "removed f: 9770\n",
      "removed v: 9736\n",
      "removed h: 9804\n",
      "removed o: 9740\n",
      "removed j: 9778\n",
      "removed q: 9718\n",
      "removed w: 9838\n",
      "removed l: 9764\n",
      "removed p: 9778\n",
      "removed a: 9770\n",
      "removed e: 9770\n",
      "removed z: 9788\n",
      "removed u: 9772\n",
      "removed r: 9780\n",
      "removed i: 9770\n",
      "removing c results in length of 5668\n"
     ]
    }
   ],
   "source": [
    "import re\n",
    "# testcase = 'dabAcCaCBAcCcaDA'\n",
    "testcase = open(r'D:\\Python\\Advent\\5.1\\input.txt', 'r').readline().strip()\n",
    "\n",
    "letters = set(testcase.lower())\n",
    "letter_dict = dict()\n",
    "print(letters)\n",
    "\n",
    "for l in letters:\n",
    "    substr_low = '%s' % l\n",
    "    substr_up = '%s' % l.upper()\n",
    "    new_text = re.sub(substr_low, '', testcase)\n",
    "    new_text = re.sub(substr_up, '', new_text)\n",
    "    react_length = react_pol(new_text)\n",
    "    letter_dict[l] = react_length\n",
    "    print('removed %s: %d' % (l, react_length))\n",
    "    \n",
    "# find the minimum value in dictionary\n",
    "min_val = min(letter_dict, key = lambda k: letter_dict[k])\n",
    "print('removing %s results in length of %d' % (min_val, letter_dict[min_val]))"
   ]
  },
  {
   "cell_type": "code",
   "execution_count": 20,
   "metadata": {},
   "outputs": [
    {
     "name": "stdout",
     "output_type": "stream",
     "text": [
      "10180\n",
      "5668\n"
     ]
    }
   ],
   "source": [
    "##### super clean solution, runs incredibly fast\n",
    "# using a stack (reverses the input string, but good enough to measure the length)\n",
    "from string import ascii_lowercase\n",
    "testcase = open(r'D:\\Python\\Advent\\5.1\\input.txt', 'r').readline().strip()\n",
    "\n",
    "def collapse(test_string):\n",
    "    # create result string, has to have some initial value\n",
    "    new_string = ['.']\n",
    "    for test_char in test_string:\n",
    "        prev_char = new_string[-1]\n",
    "        # compare last char in new string with the test char \n",
    "        # if they are not equal but lower cases are equal they rep 'aA' or 'Aa'\n",
    "        if prev_char != test_char and prev_char.lower() == test_char.lower():\n",
    "            # in that case, remove the char from the result list (last element)\n",
    "            new_string.pop()\n",
    "        # else they are different chars, add to end of new string\n",
    "        else:\n",
    "            new_string.append(test_char)\n",
    "    # we're done, return the length of the resulting string\n",
    "    return len(new_string) - 1\n",
    "\n",
    "\n",
    "print(collapse(testcase))\n",
    "print(min(collapse(c for c in testcase if c.lower() != x) for x in ascii_lowercase))"
   ]
  },
  {
   "cell_type": "code",
   "execution_count": 22,
   "metadata": {},
   "outputs": [
    {
     "name": "stdout",
     "output_type": "stream",
     "text": [
      "10180\n",
      "removing c results in length of 5668\n"
     ]
    }
   ],
   "source": [
    "##### this solution uses string.replace\n",
    "# the trick here is to not iterate through the long word by comparing each element\n",
    "# but rather go through each letter, then use string.replace to replace all combinations\n",
    "# of upper and lower / lower and upper letters\n",
    "import re\n",
    "\n",
    "testcase = open(r'D:\\Python\\Advent\\5.1\\input.txt', 'r').readline().strip()\n",
    "letters = set(testcase.lower())\n",
    "\n",
    "def react_pol(testcase):\n",
    "    prev_word = ''\n",
    "    work_word = testcase\n",
    "    while prev_word != work_word:\n",
    "        prev_word = work_word\n",
    "        for ch in letters:\n",
    "            # replace all combinations of lower+upper and upper+lower characters\n",
    "            work_word = work_word.replace(ch.lower() + ch.upper(), '')\n",
    "            work_word = work_word.replace(ch.upper() + ch.lower(), '')\n",
    "    return work_word\n",
    "       \n",
    "output_word = react_pol(testcase)\n",
    "print(len(output_word))\n",
    "\n",
    "# use the already processed output for part 2 - much faster!\n",
    "letters = set(output_word.lower())\n",
    "letter_dict = dict()\n",
    "\n",
    "for l in letters:\n",
    "    #substr_low = '%s' % l\n",
    "    #substr_up = '%s' % l.upper()\n",
    "    #new_text = re.sub(substr_low, '', testcase)\n",
    "    #new_text = re.sub(substr_up, '', new_text)\n",
    "    new_text = output_word.replace(l, '')\n",
    "    new_text = new_text.replace(l.upper(), '')\n",
    "    react_length = len(react_pol(new_text))\n",
    "    letter_dict[l] = react_length\n",
    "    # print('removed %s: %d' % (l, react_length))\n",
    "    \n",
    "# find the minimum value in dictionary\n",
    "min_val = min(letter_dict, key = lambda k: letter_dict[k])\n",
    "print('removing %s results in length of %d' % (min_val, letter_dict[min_val]))"
   ]
  }
 ],
 "metadata": {
  "kernelspec": {
   "display_name": "Python 3",
   "language": "python",
   "name": "python3"
  },
  "language_info": {
   "codemirror_mode": {
    "name": "ipython",
    "version": 3
   },
   "file_extension": ".py",
   "mimetype": "text/x-python",
   "name": "python",
   "nbconvert_exporter": "python",
   "pygments_lexer": "ipython3",
   "version": "3.7.1"
  }
 },
 "nbformat": 4,
 "nbformat_minor": 2
}
