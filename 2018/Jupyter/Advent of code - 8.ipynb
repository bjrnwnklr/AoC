{
 "cells": [
  {
   "cell_type": "markdown",
   "metadata": {},
   "source": [
    "# Day 8, part 1\n",
    "\n",
    "The tree is made up of nodes; a single, outermost node forms the tree's root, and it contains all other nodes in the tree (or contains nodes that contain nodes, and so on).\n",
    "\n",
    "Specifically, a node consists of:\n",
    "\n",
    "A header, which is always exactly two numbers:\n",
    "The quantity of child nodes.\n",
    "The quantity of metadata entries.\n",
    "Zero or more child nodes (as specified in the header).\n",
    "One or more metadata entries (as specified in the header)."
   ]
  },
  {
   "cell_type": "code",
   "execution_count": 35,
   "metadata": {},
   "outputs": [
    {
     "name": "stdout",
     "output_type": "stream",
     "text": [
      "43825\n"
     ]
    }
   ],
   "source": [
    "my_file = open(r'D:\\Python\\Advent\\8.1\\input.txt', 'r').read()\n",
    "tree = [int(x) for x in my_file.split(' ')]\n",
    "#tree = [*map(int, '2 3 0 3 10 11 12 1 1 0 1 99 2 1 1 2'.split(' '))]\n",
    "\n",
    "def sumtree(t):\n",
    "    # read in child count (and remove from tree)\n",
    "    child_count = t.pop(0)\n",
    "    # read in metadata count (and remove from tree)\n",
    "    metadata_count = t.pop(0)\n",
    "    # recursion: run through each child. this does not get executed as soon as child count is 0\n",
    "    total1 = sum(sumtree(t) for _ in range(child_count))\n",
    "    # this goes through the metadata entries and sums them up\n",
    "    total2 = sum(t.pop(0) for _ in range(metadata_count))\n",
    "\n",
    "    return total1 + total2\n",
    "\n",
    "part1 = sumtree(tree)\n",
    "print(part1)"
   ]
  },
  {
   "cell_type": "markdown",
   "metadata": {},
   "source": [
    "# part 2\n",
    "\n",
    "The second check is slightly more complicated: you need to find the value of the root node (A in the example above).\n",
    "\n",
    "The value of a node depends on whether it has child nodes.\n",
    "\n",
    "If a node has no child nodes, its value is the sum of its metadata entries. So, the value of node B is 10+11+12=33, and the value of node D is 99."
   ]
  },
  {
   "cell_type": "code",
   "execution_count": 42,
   "metadata": {},
   "outputs": [
    {
     "name": "stdout",
     "output_type": "stream",
     "text": [
      "19276\n"
     ]
    }
   ],
   "source": [
    "#tree = [*map(int, '2 3 0 3 10 11 12 1 1 0 1 99 2 1 1 2'.split(' '))]\n",
    "my_file = open(r'D:\\Python\\Advent\\8.1\\input.txt', 'r').read()\n",
    "tree = [int(x) for x in my_file.split(' ')]\n",
    "\n",
    "def val(t):\n",
    "    child_count = t.pop(0)\n",
    "    metadata_count = t.pop(0)\n",
    "    vals = [val(t) for _ in range(child_count)]\n",
    "    mdata = [t.pop(0) for _ in range(metadata_count)]\n",
    "    if child_count == 0:\n",
    "        return sum(mdata)\n",
    "    return sum(vals[i-1] for i in mdata if i-1 in range(child_count))\n",
    "\n",
    "    \n",
    "part2 = val(tree)\n",
    "print(part2)"
   ]
  }
 ],
 "metadata": {
  "kernelspec": {
   "display_name": "Python 3",
   "language": "python",
   "name": "python3"
  },
  "language_info": {
   "codemirror_mode": {
    "name": "ipython",
    "version": 3
   },
   "file_extension": ".py",
   "mimetype": "text/x-python",
   "name": "python",
   "nbconvert_exporter": "python",
   "pygments_lexer": "ipython3",
   "version": "3.7.1"
  }
 },
 "nbformat": 4,
 "nbformat_minor": 2
}
