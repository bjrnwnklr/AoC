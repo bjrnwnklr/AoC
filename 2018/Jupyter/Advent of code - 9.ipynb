{
 "cells": [
  {
   "cell_type": "markdown",
   "metadata": {},
   "source": [
    "# Day 9, part 1\n",
    "\n",
    "The Elves play this game by taking turns arranging the marbles in a circle according to very particular rules. The marbles are numbered starting with 0 and increasing by 1 until every marble has a number.\n",
    "\n",
    "First, the marble numbered 0 is placed in the circle. At this point, while it contains only a single marble, it is still a circle: the marble is both clockwise from itself and counter-clockwise from itself. This marble is designated the current marble.\n",
    "\n",
    "Then, each Elf takes a turn placing the lowest-numbered remaining marble into the circle between the marbles that are 1 and 2 marbles clockwise of the current marble. (When the circle is large enough, this means that there is one marble between the marble that was just placed and the current marble.) The marble that was just placed then becomes the current marble.\n",
    "\n",
    "However, if the marble that is about to be placed has a number which is a multiple of 23, something entirely different happens. First, the current player keeps the marble they would have placed, adding it to their score. In addition, the marble 7 marbles counter-clockwise from the current marble is removed from the circle and also added to the current player's score. The marble located immediately clockwise of the marble that was removed becomes the new current marble."
   ]
  },
  {
   "cell_type": "code",
   "execution_count": 12,
   "metadata": {},
   "outputs": [
    {
     "name": "stdout",
     "output_type": "stream",
     "text": [
      "191 3273405195\n"
     ]
    }
   ],
   "source": [
    "from collections import defaultdict, deque\n",
    "\n",
    "players = 441\n",
    "last = 7103200\n",
    "\n",
    "pl_score = defaultdict(int)\n",
    "circle = deque()\n",
    "circle.append(0)\n",
    "cur_marb = 1\n",
    "#cur_pos = 0\n",
    "cur_pl = 1\n",
    "\n",
    "while cur_marb <= last:\n",
    "    # check if current marble is multiple of 23\n",
    "    if not cur_marb % 23:\n",
    "        circle.rotate(-7)\n",
    "        pl_score[cur_pl] += cur_marb + circle.pop()\n",
    "    else:\n",
    "        circle.rotate(2)\n",
    "        circle.append(cur_marb)\n",
    "    cur_marb += 1\n",
    "    cur_pl = (cur_pl + 1) % players\n",
    "    \n",
    "    \n",
    "win_pl = max(pl_score, key = pl_score.get)\n",
    "highscore = pl_score[win_pl]\n",
    "print(win_pl, highscore)"
   ]
  }
 ],
 "metadata": {
  "kernelspec": {
   "display_name": "Python 3",
   "language": "python",
   "name": "python3"
  },
  "language_info": {
   "codemirror_mode": {
    "name": "ipython",
    "version": 3
   },
   "file_extension": ".py",
   "mimetype": "text/x-python",
   "name": "python",
   "nbconvert_exporter": "python",
   "pygments_lexer": "ipython3",
   "version": "3.7.1"
  }
 },
 "nbformat": 4,
 "nbformat_minor": 2
}
