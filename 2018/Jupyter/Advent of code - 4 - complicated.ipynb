{
 "cells": [
  {
   "cell_type": "code",
   "execution_count": 2,
   "metadata": {},
   "outputs": [
    {
     "name": "stdout",
     "output_type": "stream",
     "text": [
      "1098\n",
      "['[1518-05-24 23:56] Guard #1721 begins shift', '[1518-08-22 00:09] falls asleep', '[1518-05-19 00:53] wakes up', '[1518-04-19 23:48] Guard #773 begins shift', '[1518-09-24 00:35] wakes up', '[1518-07-15 00:56] wakes up', '[1518-08-10 00:03] Guard #769 begins shift', '[1518-07-10 00:50] wakes up', '[1518-07-12 00:54] falls asleep', '[1518-05-30 00:51] wakes up']\n"
     ]
    }
   ],
   "source": [
    "import re\n",
    "from datetime import datetime\n",
    "\n",
    "# load the file\n",
    "data_input = open(r'D:\\Python\\Advent\\4.1\\input.txt', 'r').read().splitlines()\n",
    "print(len(data_input))\n",
    "print(data_input[:10])"
   ]
  },
  {
   "cell_type": "code",
   "execution_count": 55,
   "metadata": {},
   "outputs": [
    {
     "name": "stdout",
     "output_type": "stream",
     "text": [
      "56\n"
     ]
    }
   ],
   "source": [
    "one_line = re.search(r'\\[(.+)\\]\\s(\\w+)\\s(.+)', data_input[0])\n",
    "timestamp = datetime.fromisoformat(one_line.group(1))\n",
    "print(timestamp.minute)"
   ]
  },
  {
   "cell_type": "code",
   "execution_count": 65,
   "metadata": {},
   "outputs": [],
   "source": [
    "keys = ['timestamp', 'type', 'guard']\n",
    "event_list = []\n",
    "# capture timestamp (1) and type (2) and rest (3)\n",
    "for line in data_input:\n",
    "    one_line = re.search(r'\\[(.+)\\]\\s(\\w+)\\s(.+)', line)\n",
    "    timestamp = datetime.fromisoformat(one_line.group(1))\n",
    "    guard = ''\n",
    "    if one_line.group(2) == 'Guard':\n",
    "        guard = int(re.search(r'#(\\d+)', one_line.group(3)).group(1))\n",
    "    event_list.append(dict(zip(keys, [timestamp, one_line.group(2), guard])))\n",
    "    "
   ]
  },
  {
   "cell_type": "code",
   "execution_count": 95,
   "metadata": {},
   "outputs": [
    {
     "name": "stdout",
     "output_type": "stream",
     "text": [
      "[{'timestamp': datetime.datetime(1518, 2, 18, 23, 59), 'type': 'Guard', 'guard': 2141}, {'timestamp': datetime.datetime(1518, 2, 19, 0, 24), 'type': 'falls', 'guard': ''}, {'timestamp': datetime.datetime(1518, 2, 19, 0, 58), 'type': 'wakes', 'guard': ''}, {'timestamp': datetime.datetime(1518, 2, 20, 0, 1), 'type': 'Guard', 'guard': 2777}, {'timestamp': datetime.datetime(1518, 2, 20, 0, 16), 'type': 'falls', 'guard': ''}, {'timestamp': datetime.datetime(1518, 2, 20, 0, 20), 'type': 'wakes', 'guard': ''}, {'timestamp': datetime.datetime(1518, 2, 20, 0, 46), 'type': 'falls', 'guard': ''}, {'timestamp': datetime.datetime(1518, 2, 20, 0, 53), 'type': 'wakes', 'guard': ''}, {'timestamp': datetime.datetime(1518, 2, 21, 0, 0), 'type': 'Guard', 'guard': 2749}, {'timestamp': datetime.datetime(1518, 2, 21, 0, 9), 'type': 'falls', 'guard': ''}]\n"
     ]
    }
   ],
   "source": [
    "sorted_events = sorted(event_list, key=lambda event_entry: event_entry['timestamp'])\n",
    "print(sorted_events[:10])"
   ]
  },
  {
   "cell_type": "code",
   "execution_count": 77,
   "metadata": {},
   "outputs": [
    {
     "data": {
      "text/plain": [
       "'2-18'"
      ]
     },
     "execution_count": 77,
     "metadata": {},
     "output_type": "execute_result"
    }
   ],
   "source": [
    "x = sorted_events[0]\n",
    "'{}-{}'.format(x['timestamp'].month, x['timestamp'].day)"
   ]
  },
  {
   "cell_type": "code",
   "execution_count": 98,
   "metadata": {},
   "outputs": [
    {
     "name": "stdout",
     "output_type": "stream",
     "text": [
      "278\n",
      "[2141, 0, 0, 0, 0, 0, 0, 0, 0, 0, 0, 0, 0, 0, 0, 0, 0, 0, 0, 0, 0, 0, 0, 0, 0, 1, 1, 1, 1, 1, 1, 1, 1, 1, 1, 1, 1, 1, 1, 1, 1, 1, 1, 1, 1, 1, 1, 1, 1, 1, 1, 1, 1, 1, 1, 1, 1, 1, 1, 0, 0]\n",
      "[2777, 0, 0, 0, 0, 0, 0, 0, 0, 0, 0, 0, 0, 0, 0, 0, 0, 1, 1, 1, 1, 0, 0, 0, 0, 0, 0, 0, 0, 0, 0, 0, 0, 0, 0, 0, 0, 0, 0, 0, 0, 0, 0, 0, 0, 0, 0, 1, 1, 1, 1, 1, 1, 1, 0, 0, 0, 0, 0, 0, 0]\n"
     ]
    }
   ],
   "source": [
    "from datetime import timedelta\n",
    "offset = 1\n",
    "events_roster = dict()\n",
    "one_day = timedelta(days=1)\n",
    "for x in sorted_events:\n",
    "    date_stamp = '{}-{}'.format(x['timestamp'].month, x['timestamp'].day)\n",
    "    minute = x['timestamp'].minute\n",
    "    if x['type'] == 'Guard':\n",
    "        hour_log = [0 for i in range(60)]\n",
    "        hour_log.insert(0, x['guard'])\n",
    "        if x['timestamp'].hour != 0:\n",
    "            new_date = x['timestamp'] + one_day\n",
    "            date_stamp = '{}-{}'.format(new_date.month, new_date.day)\n",
    "        events_roster[date_stamp] = hour_log\n",
    "    elif x['type'] == 'falls':\n",
    "        sleep_event = [1 for i in range(60-minute)]\n",
    "        events_roster[date_stamp][minute + offset:] = sleep_event\n",
    "    elif x['type'] == 'wakes':\n",
    "        wake_event = [0 for i in range(60-minute)]\n",
    "        events_roster[date_stamp][minute + offset:] = wake_event\n",
    "        \n",
    "        \n",
    "print(len(events_roster))\n",
    "print(events_roster['2-19'])\n",
    "print(events_roster['2-20'])"
   ]
  }
 ],
 "metadata": {
  "kernelspec": {
   "display_name": "Python 3",
   "language": "python",
   "name": "python3"
  },
  "language_info": {
   "codemirror_mode": {
    "name": "ipython",
    "version": 3
   },
   "file_extension": ".py",
   "mimetype": "text/x-python",
   "name": "python",
   "nbconvert_exporter": "python",
   "pygments_lexer": "ipython3",
   "version": "3.7.1"
  }
 },
 "nbformat": 4,
 "nbformat_minor": 2
}
