{
 "cells": [
  {
   "cell_type": "markdown",
   "metadata": {},
   "source": [
    "# Day 2, part 1\n",
    "## Inventory management system\n",
    "\n",
    "To make sure you didn't miss any, you scan the likely candidate boxes again, counting the number that have an ID containing exactly two of any letter and then separately counting those with exactly three of any letter. You can multiply those two counts together to get a rudimentary checksum and compare it to what your device predicts.\n",
    "\n",
    "Of these box IDs, four of them contain a letter which appears exactly twice, and three of them contain a letter which appears exactly three times. Multiplying these together produces a checksum of 4 * 3 = 12.\n",
    "\n",
    "*What is the checksum for your list of box IDs?*\n",
    "\n",
    "Result: _threes: 24, twos: 247, checksum: 5928"
   ]
  },
  {
   "cell_type": "code",
   "execution_count": 26,
   "metadata": {},
   "outputs": [
    {
     "name": "stdout",
     "output_type": "stream",
     "text": [
      "250\n"
     ]
    }
   ],
   "source": [
    "# read the file\n",
    "my_file = open(r'D:\\Python\\Advent\\2.1\\input.txt', 'r')\n",
    "inventory = my_file.read().split()\n",
    "print(len(inventory))"
   ]
  },
  {
   "cell_type": "code",
   "execution_count": 27,
   "metadata": {},
   "outputs": [
    {
     "name": "stdout",
     "output_type": "stream",
     "text": [
      "Threes: 24, Twos: 247, Checksum 5928.\n"
     ]
    }
   ],
   "source": [
    "from collections import Counter\n",
    "twos = 0\n",
    "threes = 0\n",
    "\n",
    "for test_word in inventory:\n",
    "    char_count = Counter(test_word)\n",
    "    if 3 in char_count.values():\n",
    "        threes += 1\n",
    "    if 2 in char_count.values():\n",
    "        twos += 1\n",
    "\n",
    "\n",
    "checksum = twos * threes\n",
    "print('Threes: %d, Twos: %d, Checksum %d.' % (threes, twos, checksum))\n",
    "    "
   ]
  },
  {
   "cell_type": "markdown",
   "metadata": {},
   "source": [
    "# Day 2, part 2\n",
    "\n",
    "The IDs abcde and axcye are close, but they differ by two characters (the second and fourth). However, the IDs fghij and fguij differ by exactly one character, the third (h and u). Those must be the correct boxes.\n",
    "\n",
    "What letters are common between the two correct box IDs? (In the example above, this is found by removing the differing character from either ID, producing fgij.)"
   ]
  },
  {
   "cell_type": "code",
   "execution_count": 28,
   "metadata": {},
   "outputs": [],
   "source": [
    "# read the file\n",
    "my_file = open(r'D:\\Python\\Advent\\2.1\\input.txt', 'r')\n",
    "inventory = my_file.read().split()"
   ]
  },
  {
   "cell_type": "code",
   "execution_count": 29,
   "metadata": {},
   "outputs": [
    {
     "name": "stdout",
     "output_type": "stream",
     "text": [
      "bqlporuexkwzyabnxmgjqctvfs has 1 different chars with bqlporuexkwzyabnzmgjqctvfs.\n",
      "bqlporuexkwzyabnmgjqctvfs\n"
     ]
    }
   ],
   "source": [
    "for k in range(len(inventory)):\n",
    "    x = inventory.pop(0)\n",
    "    for y in inventory:\n",
    "        diff = 0\n",
    "        found_position = 0\n",
    "        for z in range(len(x)):\n",
    "            if x[z] != y[z]:\n",
    "                diff += 1\n",
    "                found_position = z\n",
    "        if diff == 1:\n",
    "            print('%s has %d different chars with %s.' % (x, diff, y))\n",
    "            print(str(y[:found_position] + y[found_position+1:]))    "
   ]
  },
  {
   "cell_type": "markdown",
   "metadata": {},
   "source": [
    "## clean solution for part 2:\n",
    "\n",
    "```python\n",
    "from collections import Counter\n",
    "from itertools import combinations, compress\n",
    "\n",
    "theinput = open('day2_input.txt').read().split()\n",
    "\n",
    "#Part1\n",
    "\n",
    "count2 = [1 for c in (Counter(id) for id in theinput) if 2 in c.values()]\n",
    "count3 = [1 for c in (Counter(id) for id in theinput) if 3 in c.values()]\n",
    "res1 = sum(count2) * sum(count3)\n",
    "print(res1)\n",
    "\n",
    "#Part2\n",
    "for one, two in combinations(theinput, 2):    \n",
    "    diff = [e1 == e2 for e1,e2 in zip(one,two)]    \n",
    "    if sum(diff) == (len(one) - 1):\n",
    "        res2 = ''.join(list(compress(one,diff)))\n",
    "        break\n",
    "\n",
    "print(res2)\n",
    "```\n",
    "\n",
    "Another solution using zip for part 2:\n",
    "\n",
    "```python\n",
    "data = open('data.txt').read().splitlines()\n",
    "for x in data:\n",
    "    for y in data:\n",
    "        diff = [i for i,j in zip(x,y) if i == j]\n",
    "        if len(y)-len(diff) == 1:\n",
    "            print(\"\".join(diff))\n",
    "            break\n",
    "```"
   ]
  }
 ],
 "metadata": {
  "kernelspec": {
   "display_name": "Python 3",
   "language": "python",
   "name": "python3"
  },
  "language_info": {
   "codemirror_mode": {
    "name": "ipython",
    "version": 3
   },
   "file_extension": ".py",
   "mimetype": "text/x-python",
   "name": "python",
   "nbconvert_exporter": "python",
   "pygments_lexer": "ipython3",
   "version": "3.7.1"
  }
 },
 "nbformat": 4,
 "nbformat_minor": 2
}
